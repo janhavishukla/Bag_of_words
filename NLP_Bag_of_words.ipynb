{
  "nbformat": 4,
  "nbformat_minor": 0,
  "metadata": {
    "colab": {
      "name": "NLP-Bag_of_words.ipynb",
      "provenance": []
    },
    "kernelspec": {
      "name": "python3",
      "display_name": "Python 3"
    }
  },
  "cells": [
    {
      "cell_type": "code",
      "metadata": {
        "id": "YthZVQG1OXN2"
      },
      "source": [
        "from sklearn.feature_extraction.text import CountVectorizer "
      ],
      "execution_count": 1,
      "outputs": []
    },
    {
      "cell_type": "code",
      "metadata": {
        "id": "lrR661DPOxC7"
      },
      "source": [
        "#instantiate the vectorizer\r\n",
        "vectorizer = CountVectorizer()"
      ],
      "execution_count": 2,
      "outputs": []
    },
    {
      "cell_type": "code",
      "metadata": {
        "id": "Oz9FueC5Ptcv"
      },
      "source": [
        "#create 3 documents\r\n",
        "document1 = 'Hi how are you'\r\n",
        "document2 = 'today is very very pleasant day and we can have too too too much fun'\r\n",
        "document3 = 'This was an amazing experience'"
      ],
      "execution_count": 3,
      "outputs": []
    },
    {
      "cell_type": "code",
      "metadata": {
        "id": "OLcC8dsdQwWZ"
      },
      "source": [
        "#put them together \r\n",
        "listofdocuments = [document1,document2,document3]"
      ],
      "execution_count": 4,
      "outputs": []
    },
    {
      "cell_type": "code",
      "metadata": {
        "id": "5y5j7GwJRUnc"
      },
      "source": [
        "#fit them as bag of words\r\n",
        "bag_of_words = vectorizer.fit(listofdocuments)"
      ],
      "execution_count": 5,
      "outputs": []
    },
    {
      "cell_type": "code",
      "metadata": {
        "colab": {
          "base_uri": "https://localhost:8080/"
        },
        "id": "-j4Cv8eJRn-a",
        "outputId": "5c1f8aec-59a3-4434-e003-44cdee714055"
      },
      "source": [
        "#check bag of words\r\n",
        "bag_of_words"
      ],
      "execution_count": 6,
      "outputs": [
        {
          "output_type": "execute_result",
          "data": {
            "text/plain": [
              "CountVectorizer(analyzer='word', binary=False, decode_error='strict',\n",
              "                dtype=<class 'numpy.int64'>, encoding='utf-8', input='content',\n",
              "                lowercase=True, max_df=1.0, max_features=None, min_df=1,\n",
              "                ngram_range=(1, 1), preprocessor=None, stop_words=None,\n",
              "                strip_accents=None, token_pattern='(?u)\\\\b\\\\w\\\\w+\\\\b',\n",
              "                tokenizer=None, vocabulary=None)"
            ]
          },
          "metadata": {
            "tags": []
          },
          "execution_count": 6
        }
      ]
    },
    {
      "cell_type": "code",
      "metadata": {
        "id": "WOZtJUSXRwKw"
      },
      "source": [
        "#apply transform method\r\n",
        "bag_of_words = vectorizer.transform(listofdocuments)"
      ],
      "execution_count": 7,
      "outputs": []
    },
    {
      "cell_type": "code",
      "metadata": {
        "colab": {
          "base_uri": "https://localhost:8080/"
        },
        "id": "89-VrQxnR7ue",
        "outputId": "50b560fd-bed2-457f-f295-6fdcf686a108"
      },
      "source": [
        "#print bag of words\r\n",
        "print(bag_of_words)"
      ],
      "execution_count": 8,
      "outputs": [
        {
          "output_type": "stream",
          "text": [
            "  (0, 3)\t1\n",
            "  (0, 9)\t1\n",
            "  (0, 10)\t1\n",
            "  (0, 20)\t1\n",
            "  (1, 2)\t1\n",
            "  (1, 4)\t1\n",
            "  (1, 5)\t1\n",
            "  (1, 7)\t1\n",
            "  (1, 8)\t1\n",
            "  (1, 11)\t1\n",
            "  (1, 12)\t1\n",
            "  (1, 13)\t1\n",
            "  (1, 15)\t1\n",
            "  (1, 16)\t3\n",
            "  (1, 17)\t2\n",
            "  (1, 19)\t1\n",
            "  (2, 0)\t1\n",
            "  (2, 1)\t1\n",
            "  (2, 6)\t1\n",
            "  (2, 14)\t1\n",
            "  (2, 18)\t1\n"
          ],
          "name": "stdout"
        }
      ]
    },
    {
      "cell_type": "code",
      "metadata": {
        "colab": {
          "base_uri": "https://localhost:8080/"
        },
        "id": "qtm2fjGASL42",
        "outputId": "9e53a122-a033-45c9-bd21-8689e9886341"
      },
      "source": [
        "#verify the vocab for repeated words\r\n",
        "print(vectorizer.vocabulary_.get('very'))\r\n",
        "print(vectorizer.vocabulary_.get('too'))"
      ],
      "execution_count": 9,
      "outputs": [
        {
          "output_type": "stream",
          "text": [
            "17\n",
            "16\n"
          ],
          "name": "stdout"
        }
      ]
    },
    {
      "cell_type": "code",
      "metadata": {
        "colab": {
          "base_uri": "https://localhost:8080/"
        },
        "id": "3Ku6ZqdMSvH2",
        "outputId": "8f40a28b-e226-4361-877e-2e41f6903b83"
      },
      "source": [
        "#check type of bag of words\r\n",
        "type(bag_of_words)"
      ],
      "execution_count": 10,
      "outputs": [
        {
          "output_type": "execute_result",
          "data": {
            "text/plain": [
              "scipy.sparse.csr.csr_matrix"
            ]
          },
          "metadata": {
            "tags": []
          },
          "execution_count": 10
        }
      ]
    },
    {
      "cell_type": "code",
      "metadata": {
        "id": "J4G6M5sBS4S1"
      },
      "source": [
        ""
      ],
      "execution_count": null,
      "outputs": []
    }
  ]
}